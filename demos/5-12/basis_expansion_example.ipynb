{
 "cells": [
  {
   "cell_type": "markdown",
   "metadata": {},
   "source": [
    "Import modules."
   ]
  },
  {
   "cell_type": "code",
   "execution_count": 1,
   "metadata": {},
   "outputs": [],
   "source": [
    "import numpy as np\n",
    "from sklearn.linear_model import LinearRegression"
   ]
  },
  {
   "cell_type": "markdown",
   "metadata": {},
   "source": [
    "Define $f(x)$ in code."
   ]
  },
  {
   "cell_type": "code",
   "execution_count": 2,
   "metadata": {},
   "outputs": [],
   "source": [
    "def f(x):\n",
    "    return 2*np.sin(x) + 3*(2.0**x) + 3*x"
   ]
  },
  {
   "cell_type": "markdown",
   "metadata": {},
   "source": [
    "Make sure our function runs."
   ]
  },
  {
   "cell_type": "code",
   "execution_count": 3,
   "metadata": {},
   "outputs": [
    {
     "name": "stdout",
     "output_type": "stream",
     "text": [
      "19.818594853651362\n"
     ]
    }
   ],
   "source": [
    "print(f(2))"
   ]
  },
  {
   "cell_type": "markdown",
   "metadata": {},
   "source": [
    "Create the range of $x$ values we want to evaluate our function on."
   ]
  },
  {
   "cell_type": "code",
   "execution_count": 4,
   "metadata": {},
   "outputs": [
    {
     "name": "stdout",
     "output_type": "stream",
     "text": [
      "[[-2]\n",
      " [-1]\n",
      " [ 0]\n",
      " [ 1]\n",
      " [ 2]]\n"
     ]
    }
   ],
   "source": [
    "x_range = np.arange(-2, 3).reshape(-1, 1)\n",
    "print(x_range)"
   ]
  },
  {
   "cell_type": "markdown",
   "metadata": {},
   "source": [
    "Evaluate the function on our range and assign to the variable `y`."
   ]
  },
  {
   "cell_type": "code",
   "execution_count": 5,
   "metadata": {},
   "outputs": [
    {
     "name": "stdout",
     "output_type": "stream",
     "text": [
      "[[-7.06859485]\n",
      " [-3.18294197]\n",
      " [ 3.        ]\n",
      " [10.68294197]\n",
      " [19.81859485]]\n"
     ]
    }
   ],
   "source": [
    "y = f(x_range)\n",
    "print(y)"
   ]
  },
  {
   "cell_type": "markdown",
   "metadata": {},
   "source": [
    "Create the $sin(x)$ column of our basis expantion."
   ]
  },
  {
   "cell_type": "code",
   "execution_count": 6,
   "metadata": {},
   "outputs": [
    {
     "name": "stdout",
     "output_type": "stream",
     "text": [
      "[[-0.90929743]\n",
      " [-0.84147098]\n",
      " [ 0.        ]\n",
      " [ 0.84147098]\n",
      " [ 0.90929743]]\n"
     ]
    }
   ],
   "source": [
    "x_sin = np.sin(x_range).reshape(-1, 1)\n",
    "print(x_sin)"
   ]
  },
  {
   "cell_type": "markdown",
   "metadata": {},
   "source": [
    "Create the $2^x$ column of our basis expansion."
   ]
  },
  {
   "cell_type": "code",
   "execution_count": 7,
   "metadata": {},
   "outputs": [
    {
     "name": "stdout",
     "output_type": "stream",
     "text": [
      "[[0.25]\n",
      " [0.5 ]\n",
      " [1.  ]\n",
      " [2.  ]\n",
      " [4.  ]]\n"
     ]
    }
   ],
   "source": [
    "x_2exp = (2.0 ** x_range).reshape(-1, 1)\n",
    "print(x_2exp)"
   ]
  },
  {
   "cell_type": "markdown",
   "metadata": {},
   "source": [
    "Compile (stack) our columns into one single matrix `X` and ensure its dimensions (`shape`) correspond to the matrix we want."
   ]
  },
  {
   "cell_type": "code",
   "execution_count": 8,
   "metadata": {},
   "outputs": [
    {
     "name": "stdout",
     "output_type": "stream",
     "text": [
      "[[-0.90929743  0.25       -2.        ]\n",
      " [-0.84147098  0.5        -1.        ]\n",
      " [ 0.          1.          0.        ]\n",
      " [ 0.84147098  2.          1.        ]\n",
      " [ 0.90929743  4.          2.        ]]\n",
      "(5, 3)\n"
     ]
    }
   ],
   "source": [
    "X = np.hstack((x_sin, x_2exp, x_range))\n",
    "print(X)\n",
    "print(X.shape)"
   ]
  },
  {
   "cell_type": "markdown",
   "metadata": {},
   "source": [
    "Calculate our coefficients for `b`."
   ]
  },
  {
   "cell_type": "code",
   "execution_count": 9,
   "metadata": {},
   "outputs": [
    {
     "name": "stdout",
     "output_type": "stream",
     "text": [
      "[[2.]\n",
      " [3.]\n",
      " [3.]]\n"
     ]
    },
    {
     "name": "stderr",
     "output_type": "stream",
     "text": [
      "C:\\Users\\freez\\AppData\\Local\\Temp\\ipykernel_21304\\1488620218.py:1: FutureWarning: `rcond` parameter will change to the default of machine precision times ``max(M, N)`` where M and N are the input matrix dimensions.\n",
      "To use the future default and silence this warning we advise to pass `rcond=None`, to keep using the old, explicitly pass `rcond=-1`.\n",
      "  b = np.linalg.lstsq(X, y)[0]\n"
     ]
    }
   ],
   "source": [
    "b = np.linalg.lstsq(X, y)[0]\n",
    "print(b)"
   ]
  },
  {
   "cell_type": "markdown",
   "metadata": {},
   "source": [
    "Compare the values in `X @ b` ($Xb$) to the values in `y`."
   ]
  },
  {
   "cell_type": "code",
   "execution_count": 10,
   "metadata": {},
   "outputs": [
    {
     "name": "stdout",
     "output_type": "stream",
     "text": [
      "[[-7.06859485]\n",
      " [-3.18294197]\n",
      " [ 3.        ]\n",
      " [10.68294197]\n",
      " [19.81859485]]\n",
      "[[-7.06859485]\n",
      " [-3.18294197]\n",
      " [ 3.        ]\n",
      " [10.68294197]\n",
      " [19.81859485]]\n",
      "[[ 7.10542736e-15]\n",
      " [ 4.88498131e-15]\n",
      " [-8.88178420e-16]\n",
      " [-7.10542736e-15]\n",
      " [-7.10542736e-15]]\n"
     ]
    }
   ],
   "source": [
    "print(X @ b)\n",
    "print(y)\n",
    "print((X @ b) - y)"
   ]
  },
  {
   "cell_type": "markdown",
   "metadata": {},
   "source": [
    "Perform the regression using functions from `scikit-learn`."
   ]
  },
  {
   "cell_type": "code",
   "execution_count": 11,
   "metadata": {},
   "outputs": [],
   "source": [
    "reg = LinearRegression()\n",
    "mod = reg.fit(X, y)"
   ]
  },
  {
   "cell_type": "markdown",
   "metadata": {},
   "source": [
    "View our coefficients."
   ]
  },
  {
   "cell_type": "code",
   "execution_count": 12,
   "metadata": {},
   "outputs": [
    {
     "name": "stdout",
     "output_type": "stream",
     "text": [
      "[[2. 3. 3.]]\n"
     ]
    }
   ],
   "source": [
    "print(mod.coef_)"
   ]
  },
  {
   "cell_type": "markdown",
   "metadata": {},
   "source": [
    "Compare our model's predictions to our ground truth in `y`."
   ]
  },
  {
   "cell_type": "code",
   "execution_count": 13,
   "metadata": {},
   "outputs": [
    {
     "name": "stdout",
     "output_type": "stream",
     "text": [
      "[[-7.06859485]\n",
      " [-3.18294197]\n",
      " [ 3.        ]\n",
      " [10.68294197]\n",
      " [19.81859485]]\n",
      "[[-7.06859485]\n",
      " [-3.18294197]\n",
      " [ 3.        ]\n",
      " [10.68294197]\n",
      " [19.81859485]]\n",
      "[[-7.10542736e-15]\n",
      " [-4.88498131e-15]\n",
      " [ 0.00000000e+00]\n",
      " [ 3.55271368e-15]\n",
      " [ 7.10542736e-15]]\n"
     ]
    }
   ],
   "source": [
    "print(mod.predict(X))\n",
    "print(y)\n",
    "print(mod.predict(X) - y)"
   ]
  },
  {
   "cell_type": "code",
   "execution_count": null,
   "metadata": {},
   "outputs": [],
   "source": []
  }
 ],
 "metadata": {
  "kernelspec": {
   "display_name": "Python 3 (ipykernel)",
   "language": "python",
   "name": "python3"
  },
  "language_info": {
   "codemirror_mode": {
    "name": "ipython",
    "version": 3
   },
   "file_extension": ".py",
   "mimetype": "text/x-python",
   "name": "python",
   "nbconvert_exporter": "python",
   "pygments_lexer": "ipython3",
   "version": "3.10.4"
  }
 },
 "nbformat": 4,
 "nbformat_minor": 4
}
